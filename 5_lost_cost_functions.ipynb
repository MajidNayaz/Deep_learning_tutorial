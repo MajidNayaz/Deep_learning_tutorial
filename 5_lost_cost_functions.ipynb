{
 "cells": [
  {
   "cell_type": "markdown",
   "id": "59b556e9",
   "metadata": {},
   "source": [
    "## **Loss vs Cost Function in Machine Learning**\n",
    "\n",
    "In machine learning, both **loss function** and **cost function** are key concepts used to measure the performance of a model.\n",
    "\n",
    "---\n",
    "\n",
    "### **1. Loss Function**\n",
    "A **loss function** is a mathematical function that calculates the error or difference between the model’s predicted output and the actual target values for a **single data point**. The goal is to minimize this error.\n",
    "\n",
    "#### **Example Loss Functions**\n",
    "- **Mean Squared Error (MSE)** (for regression):  \n",
    "  \\[ \\, MSE = (y - \\hat{y})^2 \\]\n",
    "- **Binary Cross-Entropy** (for classification):  \n",
    "  \\[ \\, BCE = -[y \\log(\\hat{y}) + (1 - y) \\log(1 - \\hat{y})] \\]\n",
    "\n",
    "Each data point has its own **loss**, which tells us how far the prediction is from the actual value.\n",
    "\n",
    "---\n",
    "\n",
    "### **2. Cost Function**\n",
    "A **cost function** is the **average of all the loss values across the entire dataset**. It generalizes the loss function to the entire dataset, guiding the optimization process.\n",
    "\n",
    "#### **Example Cost Functions**\n",
    "- **Mean Squared Error (MSE) Cost Function**:  \n",
    "  \\[ \\, J(w) = \\frac{1}{N} \\sum_{i=1}^{N} (y_i - \\hat{y}_i)^2 \\]\n",
    "- **Binary Cross-Entropy Cost Function**:  \n",
    "  \\[ \\, J(w) = -\\frac{1}{N} \\sum_{i=1}^{N} [y_i \\log(\\hat{y}_i) + (1 - y_i) \\log(1 - \\hat{y}_i)] \\]\n",
    "\n",
    "While a **loss function** is applied to a single example, the **cost function** helps evaluate the model on the entire dataset.\n",
    "\n",
    "---\n",
    "\n",
    "### **3. Key Differences Between Loss and Cost Function**\n",
    "| **Aspect**  | **Loss Function** | **Cost Function** |\n",
    "|------------|------------------|------------------|\n",
    "| **Definition** | Measures the error for a **single** data point. | Measures the **average loss** over the whole dataset. |\n",
    "| **Scope** | Individual sample-level loss. | Dataset-level error measurement. |\n",
    "| **Usage** | Guides model updates at each iteration. | Used for overall optimization. |\n",
    "| **Example** | \\( (y - \\hat{y})^2 \\) for one data point. | \\( \\frac{1}{N} \\sum (y - \\hat{y})^2 \\) for all data points. |\n",
    "\n",
    "\n",
    "\n",
    "### **5. Summary**\n",
    "| **Term**  | **Definition** |\n",
    "|-----------|---------------|\n",
    "| **Loss Function** | Computes the error for a **single** training example. |\n",
    "| **Cost Function** | Computes the **average loss** over the entire dataset. |\n",
    "\n",
    "💡 **Minimizing the cost function helps improve the model’s predictions!** 🚀"
   ]
  },
  {
   "cell_type": "code",
   "execution_count": 2,
   "id": "549a4192",
   "metadata": {},
   "outputs": [
    {
     "name": "stdout",
     "output_type": "stream",
     "text": [
      "Loss values for each data point: [4 4 1]\n",
      "Overall Cost (MSE): 3.0\n"
     ]
    }
   ],
   "source": [
    "import numpy as np\n",
    "y_actual = np.array([10, 5, 8])\n",
    "y_pred = np.array([8, 7, 9])\n",
    "\n",
    "def mse_loss(y_true, y_pred):\n",
    "    return (y_true - y_pred) ** 2\n",
    "\n",
    "# Compute loss for each data point\n",
    "loss_values = mse_loss(y_actual, y_pred)\n",
    "print(\"Loss values for each data point:\", loss_values)\n",
    "\n",
    "def mse_cost(y_true, y_pred):\n",
    "    return np.mean((y_true - y_pred) ** 2)\n",
    "\n",
    "cost_value = mse_cost(y_actual, y_pred)\n",
    "print(\"Overall Cost (MSE):\", cost_value)\n"
   ]
  },
  {
   "cell_type": "code",
   "execution_count": null,
   "id": "17a66123",
   "metadata": {},
   "outputs": [],
   "source": [
    "#now let's implement the mean absolute error using for loop \n",
    "def mae_cost(y_actual, y_pred):\n",
    "    mea_toatal = 0\n",
    "    for yt, yp in zip(y_actual, y_pred):\n",
    "        mea_toatal += abs(yt - yp)\n",
    "    print(\"Total error\" , mea_toatal)\n",
    "    mea = mea_toatal / len(y_pred)\n",
    "    print(\"MEA:\", mea)\n",
    "    return mea\n",
    "        "
   ]
  },
  {
   "cell_type": "code",
   "execution_count": 11,
   "id": "da2e3ea6",
   "metadata": {},
   "outputs": [
    {
     "name": "stdout",
     "output_type": "stream",
     "text": [
      "Total error 5\n",
      "MEA: 1.6666666666666667\n"
     ]
    },
    {
     "data": {
      "text/plain": [
       "1.6666666666666667"
      ]
     },
     "execution_count": 11,
     "metadata": {},
     "output_type": "execute_result"
    }
   ],
   "source": [
    "mae_cost(y_actual, y_pred)"
   ]
  },
  {
   "cell_type": "code",
   "execution_count": 16,
   "id": "3d149ed6",
   "metadata": {},
   "outputs": [
    {
     "name": "stdout",
     "output_type": "stream",
     "text": [
      "1.6666666666666667\n"
     ]
    },
    {
     "data": {
      "text/plain": [
       "5"
      ]
     },
     "execution_count": 16,
     "metadata": {},
     "output_type": "execute_result"
    }
   ],
   "source": [
    "#we can use numpy to implement the mean absulote error using just one line code \n",
    "print(np.mean(np.abs(y_actual-y_pred)))    #it is the mean absulote error \n",
    "np.sum(np.abs(y_actual-y_pred))     #it is the total error \n"
   ]
  }
 ],
 "metadata": {
  "kernelspec": {
   "display_name": "base",
   "language": "python",
   "name": "python3"
  },
  "language_info": {
   "codemirror_mode": {
    "name": "ipython",
    "version": 3
   },
   "file_extension": ".py",
   "mimetype": "text/x-python",
   "name": "python",
   "nbconvert_exporter": "python",
   "pygments_lexer": "ipython3",
   "version": "3.11.5"
  }
 },
 "nbformat": 4,
 "nbformat_minor": 5
}
