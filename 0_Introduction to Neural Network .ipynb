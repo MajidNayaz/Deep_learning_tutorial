{
 "cells": [
  {
   "cell_type": "markdown",
   "id": "1591daf5",
   "metadata": {},
   "source": [
    "<h1 style=\"text-align: center; color:blue;\">Introduction to Neural Network</h1>\n",
    "\n",
    "<p>\n",
    "A <strong>Neural Network</strong> is a type of machine learning model that acts like the human brain. It can learn from data and, based on that, make decisions.\n",
    "</p>\n",
    "\n",
    "<p>It works based on layers:</p>\n",
    "<ul>\n",
    "  <li><strong>Input Layer</strong>: Takes in the data, like images, text, etc.</li>\n",
    "  <li><strong>Hidden Layers</strong>: Process and transform the input.</li>\n",
    "  <li><strong>Output Layer</strong>: Gives the result (like classifying the photo).</li>\n",
    "</ul>\n",
    "<h3 style=\"text-align: center;\">Structure of a Simple Neural Network</h3>\n",
    "\n",
    "<div style=\"text-align: center;\">\n",
    "  <img src=\"images/N_Network.jpg\" alt=\"Neural Network Diagram\" width=\"500\">\n",
    "  <p style=\"font-size: 12px; color: gray;\">\n",
    "    Source: <a href=\"https://www.researchgate.net/figure/A-graphical-visualization-of-a-Deep-Neural-Network-from-here_fig1_331165395\" target=\"_blank\">Original Image</a>\n",
    "  </p>\n",
    "</div>\n",
    "\n",
    "\n",
    "\n"
   ]
  }
 ],
 "metadata": {
  "kernelspec": {
   "display_name": "Python 3 (ipykernel)",
   "language": "python",
   "name": "python3"
  },
  "language_info": {
   "codemirror_mode": {
    "name": "ipython",
    "version": 3
   },
   "file_extension": ".py",
   "mimetype": "text/x-python",
   "name": "python",
   "nbconvert_exporter": "python",
   "pygments_lexer": "ipython3",
   "version": "3.11.5"
  }
 },
 "nbformat": 4,
 "nbformat_minor": 5
}
