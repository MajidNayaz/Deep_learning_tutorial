{
 "cells": [
  {
   "cell_type": "markdown",
   "id": "916a17d8",
   "metadata": {},
   "source": [
    "<h1 style=\"text-align: center; color:blue;\">Introduction to Deep Learning (Neural Network)</h1>\n",
    "\n",
    "<p>\n",
    "<strong>Deep Learning</strong> is a subset of Machine Learning that acts like the human brain. It can learn from huge amount of data and based on that make decisions.\n",
    "</p>\n",
    "\n",
    "<p>It works based on layers:</p>\n",
    "<ul>\n",
    "  <li><strong>Input Layer</strong>: Takes in the data, like images, text, etc.</li>\n",
    "  <li><strong>Hidden Layers</strong>: Process and transform the input.</li>\n",
    "  <li><strong>Output Layer</strong>: Gives the result (like classifying the photo).</li>\n",
    "</ul>\n",
    "<h3 style=\"text-align: center;\">Structure of a Simple Neural Network</h3>\n",
    "\n",
    "<div style=\"text-align: center;\">\n",
    "  <img src=\"images/N_Network.jpg\" alt=\"Neural Network Diagram\" width=\"500\">\n",
    "  <p style=\"font-size: 12px; color: gray;\">\n",
    "    Source: <a href=\"https://www.researchgate.net/figure/A-graphical-visualization-of-a-Deep-Neural-Network-from-here_fig1_331165395\" target=\"_blank\">Original Image</a>\n",
    "  </p>\n",
    "</div>\n",
    "\n",
    "\n",
    "\n"
   ]
  },
  {
   "cell_type": "markdown",
   "id": "73b16e06",
   "metadata": {},
   "source": [
    "<h2>Why Deep Learning became pupolar</h2>\n",
    "<ul>\n",
    "    <li><strong>Growth of data:</strong> and we need a great deal of data to train deel learning model</li>\n",
    "    <li><strong>Hardware Advancment:</strong>we need GPU and advanced processing unit to train </li>\n",
    "    <li><strong>Python and Open source ecosystem:</strong>it makes training procss easier</li>\n",
    "    <li><strong>SAS(cloud GPU):</strong>like colab, Kaggle</li>\n",
    "    \n",
    "</ul>\n",
    "<p></p>"
   ]
  },
  {
   "cell_type": "markdown",
   "id": "ce6a02b5",
   "metadata": {},
   "source": [
    "<h3>Python Framworks</h3>\n",
    "<ul>\n",
    "    <li><strong>Pytorch:</strong> Used by Facebook</li>\n",
    "    <li><strong>Tensorflow:</strong>Developed by Google</li>\n",
    "    <li><strong>CNTK:</strong>By microsoft</li>\n",
    "</ul>"
   ]
  },
  {
   "cell_type": "markdown",
   "id": "4a1d5a15",
   "metadata": {},
   "source": [
    "<h2 style=\"color:#2c3e50;\">🧠 How a Neural Network Learns</h2>\n",
    "\n",
    "<p>Neural networks learn by adjusting the weights of their connections based on the data they see—this process is known as <strong>training</strong>.</p>\n",
    "\n",
    "<ol>\n",
    "  <li><strong>Forward Propagation</strong><br>\n",
    "  The input data passes through the network layer by layer, and a prediction is made.</li><br>\n",
    "\n",
    "  <li><strong>Loss Calculation</strong><br>\n",
    "  The network compares its prediction with the actual label using a <em>loss function</em> (like Mean Squared Error or Cross-Entropy). The goal is to minimize this loss.</li><br>\n",
    "\n",
    "  <li><strong>Backpropagation</strong><br>\n",
    "  The error is propagated backward through the network. This helps the model understand how each weight contributed to the error.</li><br>\n",
    "\n",
    "  <li><strong>Gradient Descent</strong><br>\n",
    "  The network uses a technique called <em>gradient descent</em> to slightly adjust each weight in a way that reduces the error. Over many iterations, these small changes help the network make better predictions.</li><br>\n",
    "\n",
    "  <li><strong>Repeat</strong><br>\n",
    "  This process repeats over many <strong>epochs</strong> (passes through the training data) until the model learns the underlying patterns.</li>\n",
    "</ol>\n",
    "\n",
    "<blockquote>\n",
    "  <strong>Key Concept:</strong> Neural networks learn by <em>optimizing weights</em> using <strong>backpropagation + gradient descent</strong> based on how well or poorly they perform on training data.\n",
    "</blockquote>\n",
    "\n",
    "<h3 style=\"color:#34495e;\">🖼️ Visual Representation</h3>\n",
    "\n",
    "<p>Below is a diagram that illustrates the learning process of a neural network:</p>\n",
    "\n",
    "<img src=\"images/Neural_Learning_process.jpg\" alt=\"Neural Network Learning Process\" width=\"600\"/>\n",
    "  <p style=\"font-size: 12px; color: gray;\">\n",
    "    Source: <a href=\"https://images.app.goo.gl/4bQEXB44Y95JugGS7\" target=\"_blank\">Original Image</a>\n",
    "  </p>\n"
   ]
  }
 ],
 "metadata": {
  "kernelspec": {
   "display_name": "Python 3 (ipykernel)",
   "language": "python",
   "name": "python3"
  },
  "language_info": {
   "codemirror_mode": {
    "name": "ipython",
    "version": 3
   },
   "file_extension": ".py",
   "mimetype": "text/x-python",
   "name": "python",
   "nbconvert_exporter": "python",
   "pygments_lexer": "ipython3",
   "version": "3.11.5"
  }
 },
 "nbformat": 4,
 "nbformat_minor": 5
}
